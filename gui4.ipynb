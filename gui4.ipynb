{
 "cells": [
  {
   "cell_type": "code",
   "execution_count": 10,
   "metadata": {},
   "outputs": [],
   "source": [
    "from Tkinter import *\n",
    "import webbrowser\n",
    "\n",
    "root = Tk()\n",
    "text = Text(root, width = 30, height = 5, autoseparators = False, undo = True, maxundo = 10)\n",
    "text.pack()\n",
    "text.insert(INSERT, 'I am fine')\n",
    "text.tag_add('link', '1.5', '1.16')\n",
    "text.tag_config('link', foreground = 'blue', underline = True)\n",
    "\n",
    "def show_hand_cursor(event):\n",
    "    text.config(cursor = 'arrow')\n",
    "    \n",
    "def show_arrow_cursor(event):\n",
    "    text.config(cursor = 'xterm')\n",
    "    \n",
    "def click(event):\n",
    "    webbrowser.open('www.baidu.com')\n",
    "    \n",
    "def callback(event):\n",
    "    text.edit_separator()\n",
    "    \n",
    "text.bind('<Key>', callback)\n",
    "    \n",
    "    \n",
    "def undo():\n",
    "    text.edit_undo()\n",
    "    \n",
    "text.tag_bind('link', '<Enter>', show_hand_cursor)\n",
    "text.tag_bind('link', '<Leave>', show_arrow_cursor)\n",
    "text.tag_bind('link', '<Button-1>', click)\n",
    "\n",
    "Button(root, text = \"撤销\", command = undo).pack()\n",
    "\n",
    "mainloop()"
   ]
  },
  {
   "cell_type": "code",
   "execution_count": 15,
   "metadata": {},
   "outputs": [],
   "source": [
    "root = Tk()\n",
    "w = Canvas(root, width =200, height = 100)\n",
    "w.pack()\n",
    "l1 = w.create_line(0, 50, 200, 50, fill = 'yellow')\n",
    "l2 = w.create_line(100, 0, 100, 100, fill = 'red', dash = (4, 4))\n",
    "r1 = w.create_rectangle(50, 25, 150, 75, fill = 'blue')\n",
    "o1 = w.create_oval(50, 25, 150, 75, fill = 'pink')\n",
    "t1 = w.create_text(100, 50, text = 'Lch', fill = 'black')\n",
    "\n",
    "mainloop()"
   ]
  },
  {
   "cell_type": "code",
   "execution_count": 30,
   "metadata": {},
   "outputs": [],
   "source": [
    "import math as m\n",
    "\n",
    "root = Tk()\n",
    "w = Canvas(root, width = 200, height = 100, background = 'black')\n",
    "w.pack()\n",
    "x = 100\n",
    "y = 50\n",
    "r = 50\n",
    "\n",
    "points = [x - (r * m.sin(2 * m.pi / 5)), y - (r * m.cos(2 * m.pi / 5)), \n",
    "          x + (r * m.sin(2 * m.pi / 5)), y - (r * m.cos(2 * m.pi / 5)), \n",
    "          x - (r * m.cos(2 * m.pi / 5)), y + (r * m.sin(2 * m.pi / 5)),\n",
    "          x, y - r, \n",
    "          x + (r * m.cos(2 * m.pi / 5)), y + (r * m.sin(2 * m.pi / 5))]\n",
    "\n",
    "w.create_polygon(points, outline = 'green', fill = 'yellow')\n",
    "\n",
    "mainloop()\n"
   ]
  },
  {
   "cell_type": "code",
   "execution_count": null,
   "metadata": {},
   "outputs": [],
   "source": []
  }
 ],
 "metadata": {
  "kernelspec": {
   "display_name": "Python 2",
   "language": "python",
   "name": "python2"
  },
  "language_info": {
   "codemirror_mode": {
    "name": "ipython",
    "version": 2
   },
   "file_extension": ".py",
   "mimetype": "text/x-python",
   "name": "python",
   "nbconvert_exporter": "python",
   "pygments_lexer": "ipython2",
   "version": "2.7.14"
  }
 },
 "nbformat": 4,
 "nbformat_minor": 2
}
