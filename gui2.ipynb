{
 "cells": [
  {
   "cell_type": "code",
   "execution_count": 24,
   "metadata": {},
   "outputs": [],
   "source": [
    "import Tkinter as tk\n",
    "\n",
    "root = tk.Tk()\n",
    "frame1 = tk.Frame(root)\n",
    "frame2 = tk.Frame(root)\n",
    "\n",
    "var = tk.StringVar()\n",
    "var.set(\"How old are you?\")\n",
    "textLabel1 = tk.Label(frame1, textvariable = var, justify = 'left')\n",
    "textLabel1.pack(side = 'left')\n",
    "\n",
    "photo = tk.PhotoImage(file = \"111.gif\")\n",
    "imgLabel1 = tk.Label(frame1, image = photo)\n",
    "imgLabel1.pack(side = 'right')\n",
    "\n",
    "button1 = tk.Button(frame2, text = \"20\", command = 'callback')\n",
    "button1.pack()\n",
    "frame1.pack(padx = 20, pady = 20)\n",
    "frame2.pack(padx = 20, pady = 20)\n",
    "\n",
    "root.mainloop()"
   ]
  },
  {
   "cell_type": "code",
   "execution_count": null,
   "metadata": {},
   "outputs": [],
   "source": []
  }
 ],
 "metadata": {
  "kernelspec": {
   "display_name": "Python 2",
   "language": "python",
   "name": "python2"
  },
  "language_info": {
   "codemirror_mode": {
    "name": "ipython",
    "version": 2
   },
   "file_extension": ".py",
   "mimetype": "text/x-python",
   "name": "python",
   "nbconvert_exporter": "python",
   "pygments_lexer": "ipython2",
   "version": "2.7.14"
  }
 },
 "nbformat": 4,
 "nbformat_minor": 2
}
