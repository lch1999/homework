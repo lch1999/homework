{
 "cells": [
  {
   "cell_type": "code",
   "execution_count": 2,
   "metadata": {},
   "outputs": [],
   "source": [
    "from Tkinter import *\n",
    "import math as m\n",
    "\n",
    "root = Tk()\n",
    "w = Canvas(root, width = 200, height = 100, background = 'black')\n",
    "w.pack()\n",
    "x = 100\n",
    "y = 50\n",
    "r = 50\n",
    "\n",
    "points = [x - (r * m.sin(2 * m.pi / 5)), y - (r * m.cos(2 * m.pi / 5)), \n",
    "          x + (r * m.sin(2 * m.pi / 5)), y - (r * m.cos(2 * m.pi / 5)), \n",
    "          x - (r * m.sin(m.pi / 5)), y + (r * m.cos(m.pi / 5)),\n",
    "          x, y - r, \n",
    "          x + (r * m.sin(m.pi / 5)), y + (r * m.cos(m.pi / 5))]\n",
    "\n",
    "w.create_polygon(points, outline = 'green', fill = 'yellow')\n",
    "\n",
    "mainloop()\n"
   ]
  },
  {
   "cell_type": "code",
   "execution_count": 3,
   "metadata": {},
   "outputs": [],
   "source": [
    "root = Tk()\n",
    "w1 = Canvas(root, width = 400, height = 200)\n",
    "w1.pack()\n",
    "\n",
    "def paint(event):\n",
    "    x1, y1 = (event.x - 1), (event.y - 1)\n",
    "    x2, y2 = (event.x + 1), (event.y + 1)\n",
    "    w1.create_oval(x1, y1, x2, y2, fill = 'red')\n",
    "    \n",
    "w1.bind('<B1-Motion>', paint)\n",
    "Label(root, text = '按住鼠标左键并移动，开始绘制').pack()\n",
    "\n",
    "mainloop()"
   ]
  },
  {
   "cell_type": "code",
   "execution_count": 4,
   "metadata": {},
   "outputs": [],
   "source": [
    "root = Tk()\n",
    "def callback():\n",
    "    print '被调用了'\n",
    "    \n",
    "menubar = Menu(root)\n",
    "menubar.add_command(label = 'Hello', command = callback)\n",
    "menubar.add_command(label = 'Quit', command = root.quit)8u\n",
    "\n",
    "root.config(menu = menubar)\n",
    "\n",
    "mainloop()"
   ]
  },
  {
   "cell_type": "code",
   "execution_count": null,
   "metadata": {},
   "outputs": [],
   "source": []
  }
 ],
 "metadata": {
  "kernelspec": {
   "display_name": "Python 2",
   "language": "python",
   "name": "python2"
  },
  "language_info": {
   "codemirror_mode": {
    "name": "ipython",
    "version": 2
   },
   "file_extension": ".py",
   "mimetype": "text/x-python",
   "name": "python",
   "nbconvert_exporter": "python",
   "pygments_lexer": "ipython2",
   "version": "2.7.14"
  }
 },
 "nbformat": 4,
 "nbformat_minor": 2
}
