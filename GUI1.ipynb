{
 "cells": [
  {
   "cell_type": "code",
   "execution_count": 36,
   "metadata": {},
   "outputs": [],
   "source": [
    "class app:\n",
    "    def __init__(self, root):\n",
    "        frame =tk.Frame(root)\n",
    "        frame.pack()\n",
    "        self.hi_there = tk.Button(frame, text = \"打招呼\", bg = 'yellow' ,fg = 'blue', command = self.say_hi)\n",
    "        self.hi_there.pack()\n",
    "\n",
    "    def say_hi(self):\n",
    "        print \"大家好\"\n",
    "        \n",
    "root = tk.Tk()\n",
    "textLabel = tk.Label(root, text = \"hahah\\nhahaha\")\n",
    "textLabel.pack(side = 'left')\n",
    "\n",
    "app1 = app(root)\n",
    "\n",
    "root.mainloop()"
   ]
  },
  {
   "cell_type": "code",
   "execution_count": null,
   "metadata": {},
   "outputs": [],
   "source": []
  }
 ],
 "metadata": {
  "kernelspec": {
   "display_name": "Python 2",
   "language": "python",
   "name": "python2"
  },
  "language_info": {
   "codemirror_mode": {
    "name": "ipython",
    "version": 2
   },
   "file_extension": ".py",
   "mimetype": "text/x-python",
   "name": "python",
   "nbconvert_exporter": "python",
   "pygments_lexer": "ipython2",
   "version": "2.7.14"
  }
 },
 "nbformat": 4,
 "nbformat_minor": 2
}
