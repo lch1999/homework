{
 "cells": [
  {
   "cell_type": "code",
   "execution_count": 3,
   "metadata": {},
   "outputs": [
    {
     "name": "stdout",
     "output_type": "stream",
     "text": [
      "yes\n",
      "no\n"
     ]
    }
   ],
   "source": [
    "from Tkinter import *\n",
    "import tkMessageBox\n",
    "\n",
    "root = Tk()\n",
    "\n",
    "def callback():\n",
    "    ans = tkMessageBox.askquestion('ybb', '橘皮皮鸽了吗?')\n",
    "    print ans\n",
    "\n",
    "Button(root, text = '弹出对话框', command = callback).pack()\n",
    "\n",
    "mainloop()"
   ]
  },
  {
   "cell_type": "code",
   "execution_count": 9,
   "metadata": {},
   "outputs": [
    {
     "name": "stdout",
     "output_type": "stream",
     "text": [
      "C:/Users/Administrator/cat_1.jpg\n",
      "\n"
     ]
    }
   ],
   "source": [
    "import tkFileDialog\n",
    "\n",
    "root = Tk()\n",
    "\n",
    "def callback():\n",
    "    filename = tkFileDialog.askopenfilename()\n",
    "    print filename\n",
    "\n",
    "Button(root, text = '打开文件', command = callback).pack()\n",
    "\n",
    "mainloop()"
   ]
  },
  {
   "cell_type": "code",
   "execution_count": 12,
   "metadata": {},
   "outputs": [
    {
     "name": "stdout",
     "output_type": "stream",
     "text": [
      "(None, None)\n"
     ]
    }
   ],
   "source": [
    "import tkColorChooser\n",
    "\n",
    "root = Tk()\n",
    "\n",
    "def callback():\n",
    "    filename = tkColorChooser.askcolor()\n",
    "    print filename\n",
    "\n",
    "Button(root, text = '选择颜色', command = callback).pack()\n",
    "\n",
    "mainloop()"
   ]
  },
  {
   "cell_type": "code",
   "execution_count": null,
   "metadata": {},
   "outputs": [],
   "source": []
  }
 ],
 "metadata": {
  "kernelspec": {
   "display_name": "Python 2",
   "language": "python",
   "name": "python2"
  },
  "language_info": {
   "codemirror_mode": {
    "name": "ipython",
    "version": 2
   },
   "file_extension": ".py",
   "mimetype": "text/x-python",
   "name": "python",
   "nbconvert_exporter": "python",
   "pygments_lexer": "ipython2",
   "version": "2.7.14"
  }
 },
 "nbformat": 4,
 "nbformat_minor": 2
}
