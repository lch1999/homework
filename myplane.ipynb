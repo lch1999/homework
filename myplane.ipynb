{
 "cells": [
  {
   "cell_type": "code",
   "execution_count": 2,
   "metadata": {},
   "outputs": [
    {
     "name": "stdout",
     "output_type": "stream",
     "text": [
      "pygame 1.9.4\n",
      "Hello from the pygame community. https://www.pygame.org/contribute.html\n"
     ]
    },
    {
     "ename": "error",
     "evalue": "video system not initialized",
     "output_type": "error",
     "traceback": [
      "\u001b[1;31m---------------------------------------------------------------------------\u001b[0m",
      "\u001b[1;31merror\u001b[0m                                     Traceback (most recent call last)",
      "\u001b[1;32m<ipython-input-2-613182539e9b>\u001b[0m in \u001b[0;36m<module>\u001b[1;34m()\u001b[0m\n\u001b[0;32m     31\u001b[0m             \u001b[0mself\u001b[0m\u001b[1;33m.\u001b[0m\u001b[0mrect\u001b[0m\u001b[1;33m.\u001b[0m\u001b[0mright\u001b[0m \u001b[1;33m=\u001b[0m \u001b[0mself\u001b[0m\u001b[1;33m.\u001b[0m\u001b[0mwidth\u001b[0m\u001b[1;33m\u001b[0m\u001b[0m\n\u001b[0;32m     32\u001b[0m \u001b[1;33m\u001b[0m\u001b[0m\n\u001b[1;32m---> 33\u001b[1;33m \u001b[0mkey_pressed\u001b[0m \u001b[1;33m=\u001b[0m \u001b[0mpygame\u001b[0m\u001b[1;33m.\u001b[0m\u001b[0mkey\u001b[0m\u001b[1;33m.\u001b[0m\u001b[0mget_pressed\u001b[0m\u001b[1;33m(\u001b[0m\u001b[1;33m)\u001b[0m\u001b[1;33m\u001b[0m\u001b[0m\n\u001b[0m\u001b[0;32m     34\u001b[0m \u001b[1;32mif\u001b[0m \u001b[0mkey_pressed\u001b[0m\u001b[1;33m[\u001b[0m\u001b[0mK_w\u001b[0m\u001b[1;33m]\u001b[0m \u001b[1;32mor\u001b[0m \u001b[0mkey_pressed\u001b[0m\u001b[1;33m[\u001b[0m\u001b[0mK_UP\u001b[0m\u001b[1;33m]\u001b[0m\u001b[1;33m:\u001b[0m\u001b[1;33m\u001b[0m\u001b[0m\n\u001b[0;32m     35\u001b[0m     \u001b[0mme\u001b[0m\u001b[1;33m.\u001b[0m\u001b[0mmoveUp\u001b[0m\u001b[1;33m(\u001b[0m\u001b[1;33m)\u001b[0m\u001b[1;33m\u001b[0m\u001b[0m\n",
      "\u001b[1;31merror\u001b[0m: video system not initialized"
     ]
    }
   ],
   "source": [
    "import pygame, sys\n",
    "from pygame.locals import *\n",
    "\n",
    "class MyPlane(pygame.sprite.Sprite):\n",
    "    def __init__(self, bg_size):\n",
    "        pygame.sprite.Sprite.__init__(self)\n",
    "        self.image = pygame.image.load(\"mouse25.png\").convert_alpha()\n",
    "        self.rect = self.image.get_rect()\n",
    "        self.width, self.height = bg_size[0], bg_size[1]\n",
    "        \n",
    "        self.rect.left, self.rect.top = (self.width - self.rect.width) / 2, self.height - 60\n",
    "        self.speed = 10\n",
    "    def moveUp(self):\n",
    "        if self.rect.top > 0:\n",
    "            self.rect.top -= self.speed\n",
    "        else:\n",
    "            self.rect.top = 0\n",
    "    def moveDown(self):\n",
    "        if self.rect.bottom < self.height - 60:\n",
    "            self.rect.top += self.speed\n",
    "        else:\n",
    "            self.rect.bottom = self.height - 60\n",
    "    def moveLeft(self):\n",
    "        if self.rect.left > 0:\n",
    "            self.rect.left -= self.speed\n",
    "        else:\n",
    "            self.rect.left = 0\n",
    "    def moveRight(self):\n",
    "        if self.rect.right < self.width:\n",
    "            self.rect.left += self.speed\n",
    "        else:\n",
    "            self.rect.right = self.width\n"
   ]
  },
  {
   "cell_type": "code",
   "execution_count": null,
   "metadata": {},
   "outputs": [],
   "source": []
  }
 ],
 "metadata": {
  "kernelspec": {
   "display_name": "Python 2",
   "language": "python",
   "name": "python2"
  },
  "language_info": {
   "codemirror_mode": {
    "name": "ipython",
    "version": 2
   },
   "file_extension": ".py",
   "mimetype": "text/x-python",
   "name": "python",
   "nbconvert_exporter": "python",
   "pygments_lexer": "ipython2",
   "version": "2.7.14"
  }
 },
 "nbformat": 4,
 "nbformat_minor": 2
}
