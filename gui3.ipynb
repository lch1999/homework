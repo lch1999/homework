{
 "cells": [
  {
   "cell_type": "code",
   "execution_count": 10,
   "metadata": {},
   "outputs": [],
   "source": [
    "from Tkinter import *\n",
    "\n",
    "root = Tk()\n",
    "direc = ['东','南','西','北']\n",
    "v = []\n",
    "\n",
    "for i in direc:\n",
    "    v.append(IntVar())\n",
    "    c = Checkbutton(root, text = i, variable = v[-1])\n",
    "    c.pack(anchor = W)\n",
    "\n",
    "mainloop()"
   ]
  },
  {
   "cell_type": "code",
   "execution_count": 22,
   "metadata": {},
   "outputs": [],
   "source": [
    "root = Tk()\n",
    "LANGS = [('Python', 1), ('Perl', 2), ('Ruby', 3), ('Lua', 4)]\n",
    "group = LabelFrame(root, text = '最好的编程语言是？', padx = 5, pady = 5)\n",
    "group.pack(padx = 20, pady = 10)\n",
    "v = IntVar()\n",
    "v.set(1)\n",
    "for lang, num in LANGS:\n",
    "    b = Radiobutton(group, text = lang, variable = v, value = num, indicatoron = False)\n",
    "    b.pack(fill = X)     #按钮充满\n",
    "    \n",
    "mainloop()"
   ]
  },
  {
   "cell_type": "code",
   "execution_count": 16,
   "metadata": {},
   "outputs": [
    {
     "name": "stdout",
     "output_type": "stream",
     "text": [
      "姓名： 12\n",
      "年龄:  123\n",
      "年龄必须为数字！\n"
     ]
    }
   ],
   "source": [
    "from Tkinter import *\n",
    "root = Tk()\n",
    "Label(root, text = '姓名： ').grid(row = 0)\n",
    "Label(root, text = '年龄： ').grid(row = 1)\n",
    "\n",
    "def test(content):\n",
    "    if content.isdigit():\n",
    "        return True\n",
    "    else:\n",
    "        print \"年龄必须为数字！\"\n",
    "        e2.delete(0, END)\n",
    "        return False\n",
    "testCMD = root.register(test)\n",
    "\n",
    "e1 = Entry(root)\n",
    "e2 = Entry(root, validate = 'key', validatecommand = (testCMD, '%P'), show = '*')\n",
    "e1.grid(row = 0, column = 1, padx = 10, pady = 5)\n",
    "e2.grid(row = 1, column = 1, padx = 10, pady = 5)\n",
    "\n",
    "\n",
    "    \n",
    "\n",
    "def show():\n",
    "    print '姓名：', e1.get()\n",
    "    print '年龄: ', e2.get()\n",
    "    e1.delete(0, END)\n",
    "    e2.delete(0, END)\n",
    "    \n",
    "Button(root, text = '获取信息', width = 10, command = show).grid(row = 3, column = 0, sticky = W, padx = 10, pady = 5)\n",
    "Button(root, text = '退出', width = 10, command = root.quit).grid(row = 3, column = 1, sticky = E, padx = 10, pady = 5)\n",
    "    \n",
    "\n",
    "mainloop()"
   ]
  },
  {
   "cell_type": "code",
   "execution_count": 25,
   "metadata": {},
   "outputs": [],
   "source": [
    "root = Tk()\n",
    "\n",
    "sb = Scrollbar(root)\n",
    "sb.pack(side = 'right', fill = Y)\n",
    "\n",
    "thelb = Listbox(root, yscrollcommand = sb.set)\n",
    "thelb.pack()\n",
    "for i in ['鸡','鸭','鹅','蛋','鱼','肉','1','2','3','4','5']:\n",
    "    thelb.insert(END, i)\n",
    "\n",
    "bu1 = Button(root, text = '删除', command = lambda x = thelb: x.delete(ACTIVE))\n",
    "bu1.pack()\n",
    "\n",
    "sb.config(command = thelb.yview)\n",
    "\n",
    "mainloop()"
   ]
  },
  {
   "cell_type": "code",
   "execution_count": 31,
   "metadata": {},
   "outputs": [
    {
     "name": "stdout",
     "output_type": "stream",
     "text": [
      "27 139\n"
     ]
    }
   ],
   "source": [
    "root = Tk()\n",
    "\n",
    "s1 = Scale(root, from_ = 0, to = 42)\n",
    "s1.pack()\n",
    "s2 = Scale(root, from_ = 0, to = 255, orient = HORIZONTAL)\n",
    "s2.pack()\n",
    "\n",
    "def show1():\n",
    "    print s1.get(), s2.get()\n",
    "    \n",
    "Button(root, text = '获得位置', command = show1).pack()\n",
    "\n",
    "mainloop()"
   ]
  },
  {
   "cell_type": "code",
   "execution_count": 37,
   "metadata": {},
   "outputs": [],
   "source": [
    "root = Tk()\n",
    "\n",
    "text = Text(root, width = 50, height = 30)\n",
    "text.pack()\n",
    "text.insert(INSERT, 'hello')\n",
    "photo = PhotoImage(file = '111.gif')\n",
    "\n",
    "def show2():\n",
    "    text.image_create(END, image = photo)\n",
    "\n",
    "    \n",
    "b1 = Button(text, text = 'click!', command = show2)\n",
    "text.window_create(INSERT, window = b1)\n",
    "\n",
    "mainloop()"
   ]
  },
  {
   "cell_type": "code",
   "execution_count": null,
   "metadata": {},
   "outputs": [],
   "source": []
  }
 ],
 "metadata": {
  "kernelspec": {
   "display_name": "Python 2",
   "language": "python",
   "name": "python2"
  },
  "language_info": {
   "codemirror_mode": {
    "name": "ipython",
    "version": 2
   },
   "file_extension": ".py",
   "mimetype": "text/x-python",
   "name": "python",
   "nbconvert_exporter": "python",
   "pygments_lexer": "ipython2",
   "version": "2.7.14"
  }
 },
 "nbformat": 4,
 "nbformat_minor": 2
}
