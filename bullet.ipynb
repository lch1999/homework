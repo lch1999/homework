{
 "cells": [
  {
   "cell_type": "code",
   "execution_count": null,
   "metadata": {},
   "outputs": [],
   "source": [
    "import pygame\n",
    "\n",
    "class Bullet1(pygame.sprite.Sprite):\n",
    "    def __init__(self, position):\n",
    "        pygame.sprite.Sprite.__init__(self)\n",
    "        self.image = pygame.image.load('').convert_alpha()\n",
    "        self.rect = self.image.get_rect()\n",
    "        self.rect.left, self.rect.top = position\n",
    "        self.speed = 12\n",
    "        self.active = True\n",
    "        self.mask = pygame.mask.from_surface(self.image)\n",
    "    def move(self):\n",
    "        self.rect.top -= self.speed\n",
    "        if self.rect.top < 0:\n",
    "            self.active = False\n",
    "    def reset(self):\n",
    "        self.rect.left, self.rect.top = position\n",
    "        self.active = True"
   ]
  }
 ],
 "metadata": {
  "kernelspec": {
   "display_name": "Python 2",
   "language": "python",
   "name": "python2"
  },
  "language_info": {
   "codemirror_mode": {
    "name": "ipython",
    "version": 2
   },
   "file_extension": ".py",
   "mimetype": "text/x-python",
   "name": "python",
   "nbconvert_exporter": "python",
   "pygments_lexer": "ipython2",
   "version": "2.7.14"
  }
 },
 "nbformat": 4,
 "nbformat_minor": 2
}
