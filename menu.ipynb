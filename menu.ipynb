{
 "cells": [
  {
   "cell_type": "code",
   "execution_count": 10,
   "metadata": {},
   "outputs": [
    {
     "name": "stdout",
     "output_type": "stream",
     "text": [
      "被调用\n",
      "被调用\n"
     ]
    }
   ],
   "source": [
    "from Tkinter import *\n",
    "\n",
    "root = Tk()\n",
    "\n",
    "def callback():\n",
    "    print \"被调用\"\n",
    "    \n",
    "def popup():\n",
    "    menu.post(event.x_root, event.y_root)\n",
    "    \n",
    "m1 = Menu(root)\n",
    "filemenu = Menu(m1, tearoff = False)\n",
    "filemenu.add_command(label = '打开', command = callback)\n",
    "filemenu.add_command(label = '保存', command = callback)\n",
    "filemenu.add_separator()\n",
    "filemenu.add_command(label = '退出', command = callback)\n",
    "m1.add_cascade(label = '文件', menu = filemenu)\n",
    "\n",
    "editmenu = Menu(m1, tearoff = False)\n",
    "editmenu.add_command(label = '剪切', command = callback)\n",
    "editmenu.add_command(label = '复制', command = callback)\n",
    "editmenu.add_command(label = '粘贴', command = callback)\n",
    "m1.add_cascade(label = '编辑', menu = editmenu)\n",
    "\n",
    "#frame = Frame(m1, width = 512, height = 512)\n",
    "#frame.pack()\n",
    "#frame.bind('Button-3', popup)\n",
    "\n",
    "root.config(menu = m1)\n",
    "\n",
    "mainloop()\n"
   ]
  },
  {
   "cell_type": "code",
   "execution_count": 14,
   "metadata": {},
   "outputs": [
    {
     "name": "stdout",
     "output_type": "stream",
     "text": [
      "5\n",
      "three\n",
      "hello\n"
     ]
    }
   ],
   "source": [
    "root = Tk()\n",
    "\n",
    "def callback1():\n",
    "    print v1.get()\n",
    "\n",
    "option = [1,2,3,4,5,6,7,8,9,'hello']\n",
    "v1 = StringVar()\n",
    "v1.set('one')\n",
    "w = OptionMenu(root, v1, 'one', 'two', 'three',*option)\n",
    "w.pack()\n",
    "\n",
    "Button(root, text = 'click!', command = callback1).pack()\n",
    "\n",
    "mainloop()"
   ]
  },
  {
   "cell_type": "code",
   "execution_count": 17,
   "metadata": {},
   "outputs": [],
   "source": [
    "root = Tk()\n",
    "w1 = Spinbox(root, from_ = 0, to = 9)\n",
    "w1.pack()\n",
    "w2 = Spinbox(root, values = (1,3,5,7,9))\n",
    "w2.pack()\n",
    "\n",
    "mainloop()"
   ]
  },
  {
   "cell_type": "code",
   "execution_count": 24,
   "metadata": {},
   "outputs": [],
   "source": [
    "m = PanedWindow(orient = VERTICAL, showhandle = True, sashrelief = SUNKEN)\n",
    "m.pack(fill = BOTH, expand = 1)\n",
    "top = Label(m, text = 'top pane')\n",
    "m.add(top)\n",
    "bottom = Label(m, text = 'bottom pane')\n",
    "m.add(bottom)\n",
    "\n",
    "mainloop()"
   ]
  },
  {
   "cell_type": "code",
   "execution_count": 31,
   "metadata": {},
   "outputs": [],
   "source": [
    "root = Tk()\n",
    "\n",
    "def create():\n",
    "    top =Toplevel()\n",
    "    top.title('hahah')\n",
    "    top.attributes('-alpha', 0.5)\n",
    "    msg = Message(top, text = 'hehehe')\n",
    "    msg.pack()\n",
    "    \n",
    "Button(root, text = '创建顶级窗口', command = create).pack()\n",
    "\n",
    "mainloop()"
   ]
  },
  {
   "cell_type": "code",
   "execution_count": 35,
   "metadata": {},
   "outputs": [],
   "source": [
    "root = Tk()\n",
    "\n",
    "root.title('我是鸽手报名系统')\n",
    "Label(root, text = '用户名').grid(row = 0, sticky = W)\n",
    "Label(root, text = '密码').grid(row = 1, sticky = W)\n",
    "\n",
    "Entry(root).grid(row = 0, column = 1)\n",
    "Entry(root).grid(row = 1, column = 1)\n",
    "photo = PhotoImage(file = '112.gif')\n",
    "Label(root, image = photo).grid(row = 0, column = 2, rowspan = 2, padx = 5, pady = 5)\n",
    "Button(text = '提交', width = 10).grid(row = 2, columnspan = 3, pady = 5)\n",
    "\n",
    "mainloop()"
   ]
  },
  {
   "cell_type": "code",
   "execution_count": null,
   "metadata": {},
   "outputs": [],
   "source": []
  }
 ],
 "metadata": {
  "kernelspec": {
   "display_name": "Python 2",
   "language": "python",
   "name": "python2"
  },
  "language_info": {
   "codemirror_mode": {
    "name": "ipython",
    "version": 2
   },
   "file_extension": ".py",
   "mimetype": "text/x-python",
   "name": "python",
   "nbconvert_exporter": "python",
   "pygments_lexer": "ipython2",
   "version": "2.7.14"
  }
 },
 "nbformat": 4,
 "nbformat_minor": 2
}
