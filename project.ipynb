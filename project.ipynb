{
 "cells": [
  {
   "cell_type": "code",
   "execution_count": 5,
   "metadata": {},
   "outputs": [
    {
     "name": "stdout",
     "output_type": "stream",
     "text": [
      "-0.6766980091148327\n",
      "0.13988982865544\n"
     ]
    }
   ],
   "source": [
    "import scipy.stats as stats  \n",
    "#婚姻质量  \n",
    "x=[1,4,7,10,13,16,25]    \n",
    "#父母-子女关系 水平  \n",
    "y=[0.784038,0.527778,0.411765,0.400000,0.333333,0.500000]    \n",
    "r, p=stats.pearsonr(x,y)  \n",
    "print r  \n",
    "print p \n",
    "\n",
    "\n",
    "\n",
    "\n",
    "\n",
    "#scipy.stats.pearsonr(x, y)\n",
    "#x和y为相同长度的两组数据\n",
    "#返回值 r, p-value\n",
    "#r是相关系数，取值-1~1. 表示线性相关程度\n",
    "#p-value越小，表示相关程度越显著。按照文档的说法“The p-values are not entirely reliable but are probably reasonable for datasets larger\n",
    "#than 500 or so.”，p-value在500个样本值以上有较高的可靠性\n",
    "\n",
    "#首先看显著性值，也就是sig值或称p值。\n",
    "#它是判断r值，也即相关系数有没有统计学意义的。\n",
    "#判定标准一般为0.05。\n",
    "#由表可知，两变量之间的相关性系数r=-0.035，\n",
    "#其p值为0.709>0.05,所以相关性系数没有统计学意义。\n",
    "#无论r值大小，都表明两者之间没有相关性。\n",
    "#如果p值<0.05，那么就表明两者之间有相关性。\n",
    "#然后再看r值，|r|值越大，相关性越好，正数指正相关，负数指负相关。\n",
    "#一般认为：\n",
    "#|r|大于等于0.8时为两变量间高度相关；\n",
    "#|r|大于等于0.5小于0.8时认为两变量中度相关；\n",
    "#|r|大于等于0.3小于0.5时认为两变量低度相关或弱相关，\n",
    "#|r|小于0.3说明相关程度为极弱相关或无相关。\n",
    "#所以判断相关性，先看p值，看有没有相关性。\n",
    "#再看r值，看相关性是强还是弱。"
   ]
  },
  {
   "cell_type": "code",
   "execution_count": null,
   "metadata": {},
   "outputs": [],
   "source": []
  },
  {
   "cell_type": "code",
   "execution_count": null,
   "metadata": {},
   "outputs": [],
   "source": []
  }
 ],
 "metadata": {
  "kernelspec": {
   "display_name": "Python 2",
   "language": "python",
   "name": "python2"
  },
  "language_info": {
   "codemirror_mode": {
    "name": "ipython",
    "version": 2
   },
   "file_extension": ".py",
   "mimetype": "text/x-python",
   "name": "python",
   "nbconvert_exporter": "python",
   "pygments_lexer": "ipython2",
   "version": "2.7.14"
  }
 },
 "nbformat": 4,
 "nbformat_minor": 2
}
