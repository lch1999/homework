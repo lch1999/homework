{
 "cells": [
  {
   "cell_type": "code",
   "execution_count": null,
   "metadata": {},
   "outputs": [],
   "source": [
    "import pygame\n",
    "from random import *\n",
    "\n",
    "class SmallEnemy(pygame.sprite.Sprite):\n",
    "    def __init__(self, bg_size):\n",
    "        pygame.sprite.Sprite.__init__(self)\n",
    "        \n",
    "        self.image = pygame.image.load('').convert_alpha()\n",
    "        self.width, self.height = bg_size[0], bg_size[1]\n",
    "        self.speed = 2\n",
    "        self.rect.left, self.rect.bottom = randint(0, self.width - self.rect.width), randint( -5 * self.height, 0)\n",
    "    def move(self):\n",
    "        if self.rect.top < self.height:\n",
    "            self.rect.top += self.speed\n",
    "        else:\n",
    "            self.reset()\n",
    "    def reset(self):\n",
    "        self.rect.left, self.rect.bottom = randint(0, self.width - self.rect.width), randint( -5 * self.height, 0)\n",
    "        "
   ]
  }
 ],
 "metadata": {
  "kernelspec": {
   "display_name": "Python 2",
   "language": "python",
   "name": "python2"
  },
  "language_info": {
   "codemirror_mode": {
    "name": "ipython",
    "version": 2
   },
   "file_extension": ".py",
   "mimetype": "text/x-python",
   "name": "python",
   "nbconvert_exporter": "python",
   "pygments_lexer": "ipython2",
   "version": "2.7.14"
  }
 },
 "nbformat": 4,
 "nbformat_minor": 2
}
