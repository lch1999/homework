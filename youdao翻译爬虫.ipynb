{
 "cells": [
  {
   "cell_type": "code",
   "execution_count": 13,
   "metadata": {},
   "outputs": [
    {
     "name": "stdout",
     "output_type": "stream",
     "text": [
      "请输入待翻译内容：\n",
      "interest\n",
      "\n",
      "翻译结果：  感兴趣\n"
     ]
    }
   ],
   "source": [
    "import urllib\n",
    "import urllib2\n",
    "import urlparse\n",
    "import json\n",
    "import time\n",
    "import random\n",
    "import hashlib\n",
    "\n",
    "print \"请输入待翻译内容：\"\n",
    "content = raw_input() \n",
    "url = \"http://fanyi.youdao.com/translate?smartresult=dict&smartresult=rule\" #去掉了 _o ,原因不明\n",
    "\n",
    "head = {}\n",
    "head['Referer'] = 'http://fanyi.youdao.com'\n",
    "head['User-Agent'] = 'Mozilla/5.0 (Windows NT 6.1; Win64; x64) AppleWebKit/537.36 (KHTML, like Gecko) Chrome/68.0.3440.75 Safari/537.36'\n",
    "\n",
    "u = 'fanyideskweb'\n",
    "d = content\n",
    "f = str(int(time.time()*1000) + random.randint(1,10))\n",
    "c = 'ebSeFb%=XZ%T[KZ)c(sy!'\n",
    "\n",
    "md5 = hashlib.md5()\n",
    "md5.update(u)\n",
    "md5.update(d)\n",
    "md5.update(f)\n",
    "md5.update(c)\n",
    "sign = md5.hexdigest()\n",
    "\n",
    "data = {\n",
    "\"i\":content,\n",
    "\"from\":\"AUTO\",\n",
    "\"to\":\"AUTO\",\n",
    "\"smartresult\":\"dict\",\n",
    "\"client\":\"fanyideskweb\",\n",
    "\"salt\":f,\n",
    "\"sign\":sign,\n",
    "\"doctype\":\"json\",\n",
    "\"version\":\"2.1\",\n",
    "\"keyfrom\":\"fanyi.web\",\n",
    "\"action\":\"FY_BY_REALTIME\",\n",
    "\"typoResult\":\"True\"\n",
    "}\n",
    "\n",
    "data = urllib.urlencode(data).encode('utf-8')\n",
    "\n",
    "request = urllib2.Request(url,data,head)\n",
    "response = urllib2.urlopen(request)\n",
    "html = response.read().decode('utf-8')\n",
    "\n",
    "#print html\n",
    "json.loads(html)\n",
    "target = json.loads(html)\n",
    "print \"\\n翻译结果： \",target['translateResult'][0][0]['tgt']\n",
    "#print \"翻译结果： %s\" % (target['translateResult'][0][0]['tgt'])"
   ]
  },
  {
   "cell_type": "code",
   "execution_count": null,
   "metadata": {},
   "outputs": [],
   "source": []
  },
  {
   "cell_type": "code",
   "execution_count": null,
   "metadata": {},
   "outputs": [],
   "source": []
  }
 ],
 "metadata": {
  "kernelspec": {
   "display_name": "Python 2",
   "language": "python",
   "name": "python2"
  },
  "language_info": {
   "codemirror_mode": {
    "name": "ipython",
    "version": 2
   },
   "file_extension": ".py",
   "mimetype": "text/x-python",
   "name": "python",
   "nbconvert_exporter": "python",
   "pygments_lexer": "ipython2",
   "version": "2.7.14"
  }
 },
 "nbformat": 4,
 "nbformat_minor": 2
}
